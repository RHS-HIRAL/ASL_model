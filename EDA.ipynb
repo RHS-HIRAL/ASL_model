{
 "cells": [
  {
   "cell_type": "markdown",
   "metadata": {},
   "source": [
    "# Quick EDA: Visualize Augmented Batches\n",
    "This notebook visualizes a few batches of augmented images from the processed dataset to help catch preprocessing or augmentation errors."
   ]
  },
  {
   "cell_type": "code",
   "execution_count": 1,
   "metadata": {},
   "outputs": [
    {
     "name": "stdout",
     "output_type": "stream",
     "text": [
      "Classes found: ['A_new', 'B_new', 'C_new', 'D_new', 'E_new', 'F_new', 'G_new', 'H_new', 'I_new', 'J_new', 'K_new', 'L_new', 'M_new', 'N_new', 'O_new', 'P_new', 'Q_new', 'R_new', 'S_new', 'T_new', 'U_new', 'del_new', 'nothing_new', 'space_new']\n"
     ]
    }
   ],
   "source": [
    "import os\n",
    "import cv2\n",
    "import numpy as np\n",
    "import matplotlib.pyplot as plt\n",
    "from glob import glob\n",
    "\n",
    "# Set the path to processed data\n",
    "processed_dir = 'data/processed'\n",
    "sample_classes = sorted([d for d in os.listdir(processed_dir) if os.path.isdir(os.path.join(processed_dir, d))])\n",
    "print('Classes found:', sample_classes)\n"
   ]
  },
  {
   "cell_type": "code",
   "execution_count": null,
   "metadata": {},
   "outputs": [],
   "source": [
    "# Visualize a few images from each class\n",
    "n_samples = 5\n",
    "fig, axes = plt.subplots(len(sample_classes), n_samples, figsize=(n_samples*2, len(sample_classes)*2))\n",
    "for i, class_name in enumerate(sample_classes):\n",
    "    img_files = sorted(glob(os.path.join(processed_dir, class_name, '*.jpg')))\n",
    "    for j in range(n_samples):\n",
    "        ax = axes[i, j] if len(sample_classes) > 1 else axes[j]\n",
    "        if j < len(img_files):\n",
    "            img = cv2.imread(img_files[j])\n",
    "            img = cv2.cvtColor(img, cv2.COLOR_BGR2RGB)\n",
    "            ax.imshow(img)\n",
    "            ax.set_title(f'{class_name}')\n",
    "        ax.axis('off')\n",
    "plt.tight_layout()\n",
    "plt.show()\n"
   ]
  },
  {
   "cell_type": "markdown",
   "metadata": {},
   "source": [
    "---\n",
    "**Tip:** If you see any images that look wrong (e.g., not grayscale, not square, corrupted), check your preprocessing pipeline.\n"
   ]
  }
 ],
 "metadata": {
  "kernelspec": {
   "display_name": ".venv",
   "language": "python",
   "name": "python3"
  },
  "language_info": {
   "codemirror_mode": {
    "name": "ipython",
    "version": 3
   },
   "file_extension": ".py",
   "mimetype": "text/x-python",
   "name": "python",
   "nbconvert_exporter": "python",
   "pygments_lexer": "ipython3",
   "version": "3.10.11"
  }
 },
 "nbformat": 4,
 "nbformat_minor": 2
}
